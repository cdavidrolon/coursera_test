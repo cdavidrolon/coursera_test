{
 "cells": [
  {
   "cell_type": "markdown",
   "id": "a6fc7a68",
   "metadata": {},
   "source": [
    "# Data Science Tools and Ecosystem"
   ]
  },
  {
   "cell_type": "markdown",
   "id": "3896a094",
   "metadata": {},
   "source": [
    "In this notebook, Data Science Tools and Ecosystem are summarized."
   ]
  },
  {
   "cell_type": "markdown",
   "id": "79ad8bff",
   "metadata": {},
   "source": [
    "\n",
    "**Objectives:**\n",
    "- List popular languages for Data Science.\n",
    "- Introduce key Data Science libraries and tools.\n",
    "- Explain the concepts of SoftMax Regression, One-vs-All, and One-vs-One for Multi-class Classification.\n",
    "- Demonstrate how to format text and create tables in Markdown cells.\n",
    "- Perform simple arithmetic operations and conversions in Python code cells."
   ]
  },
  {
   "cell_type": "markdown",
   "id": "22be76cb",
   "metadata": {},
   "source": [
    "Some of the popular languages that Data Scientists use are:\n",
    "1. Python\n",
    "2. R\n",
    "3. SQL"
   ]
  },
  {
   "cell_type": "markdown",
   "id": "2c09a01d",
   "metadata": {},
   "source": [
    "Some of the commonly used libraries used by Data Scientists include:\n",
    "1. NumPy: Fundamental package for numerical computations in Python.\n",
    "2. Pandas: Data manipulation and analysis library.\n",
    "3. Matplotlib: Plotting and visualization library.\n",
    "4. Seaborn: Statistical data visualization based on Matplotlib.\n",
    "5. Scikit-Learn: Machine learning library with various algorithms and tools."
   ]
  },
  {
   "cell_type": "markdown",
   "id": "a8e4a9a4",
   "metadata": {},
   "source": [
    "| Data Science Tools |\n",
    "|--------------------|\n",
    "| Jupyter Notebook   |\n",
    "| RStudio            |\n",
    "| VS Code            |\n"
   ]
  },
  {
   "cell_type": "markdown",
   "id": "b76fc21d",
   "metadata": {},
   "source": [
    "### Below are a few examples of evaluating arithmetic expressions in Python"
   ]
  },
  {
   "cell_type": "code",
   "execution_count": 2,
   "id": "5630bb17",
   "metadata": {},
   "outputs": [
    {
     "name": "stdout",
     "output_type": "stream",
     "text": [
      "17\n"
     ]
    }
   ],
   "source": [
    "# This is a simple arithmetic expression to multiply then add integers.\n",
    "result = (3 * 4) + 5\n",
    "print(result)\n"
   ]
  },
  {
   "cell_type": "code",
   "execution_count": 3,
   "id": "df99ffa0",
   "metadata": {},
   "outputs": [
    {
     "name": "stdout",
     "output_type": "stream",
     "text": [
      "3.33\n"
     ]
    }
   ],
   "source": [
    "# This will convert 200 minutes to hours by dividing by 60.\n",
    "minutes = 200\n",
    "hours = round(minutes / 60,2)\n",
    "print(hours)\n"
   ]
  },
  {
   "cell_type": "markdown",
   "id": "a7359537",
   "metadata": {},
   "source": [
    "## Autor\n",
    "Celso Cabañas"
   ]
  }
 ],
 "metadata": {
  "kernelspec": {
   "display_name": "Python 3 (ipykernel)",
   "language": "python",
   "name": "python3"
  },
  "language_info": {
   "codemirror_mode": {
    "name": "ipython",
    "version": 3
   },
   "file_extension": ".py",
   "mimetype": "text/x-python",
   "name": "python",
   "nbconvert_exporter": "python",
   "pygments_lexer": "ipython3",
   "version": "3.9.13"
  }
 },
 "nbformat": 4,
 "nbformat_minor": 5
}
